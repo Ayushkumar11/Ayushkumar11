{
  "nbformat": 4,
  "nbformat_minor": 0,
  "metadata": {
    "colab": {
      "name": "IMS.ipynb",
      "provenance": [],
      "authorship_tag": "ABX9TyMobkomE/scLMs2BP4QetJR",
      "include_colab_link": true
    },
    "kernelspec": {
      "name": "python3",
      "display_name": "Python 3"
    },
    "language_info": {
      "name": "python"
    }
  },
  "cells": [
    {
      "cell_type": "markdown",
      "metadata": {
        "id": "view-in-github",
        "colab_type": "text"
      },
      "source": [
        "<a href=\"https://colab.research.google.com/github/Ayushkumar11/Ayushkumar11/blob/master/IMS.ipynb\" target=\"_parent\"><img src=\"https://colab.research.google.com/assets/colab-badge.svg\" alt=\"Open In Colab\"/></a>"
      ]
    },
    {
      "cell_type": "markdown",
      "metadata": {
        "id": "Os1Qu2Hl8qAn"
      },
      "source": [
        "***Inventory Management System***\n",
        "\n",
        "\n",
        "1.There are 27 products.\n",
        "2.As ID,productname,price,quantity"
      ]
    },
    {
      "cell_type": "code",
      "metadata": {
        "id": "W5vSt2eu0kcu"
      },
      "source": [
        "fd = open(\"Record.txt\",\"r\")\n",
        "txt = fd.read()\n",
        "fd.close()"
      ],
      "execution_count": 8,
      "outputs": []
    },
    {
      "cell_type": "markdown",
      "metadata": {
        "id": "jSGiNE-D-apJ"
      },
      "source": [
        "Record file  is used to store the products data."
      ]
    },
    {
      "cell_type": "code",
      "metadata": {
        "colab": {
          "base_uri": "https://localhost:8080/"
        },
        "id": "prUDRYQQ6PaM",
        "outputId": "6dcd9e44-d100-45b3-9fdb-e5e3e19daca0"
      },
      "source": [
        "products=txt.split(\"\\n\")"
      ],
      "execution_count": 9,
      "outputs": [
        {
          "output_type": "execute_result",
          "data": {
            "text/plain": [
              "['1001,candybar,25,95',\n",
              " '1002,pen,20,100',\n",
              " '1003,Chocolate,10,40',\n",
              " '1004,corn,45,95',\n",
              " '1005,nuts,50,7',\n",
              " '1006,Coco,10,40',\n",
              " '1007,sugar,45,95',\n",
              " '1008,rice,100,7',\n",
              " '1009,wheat,50,40',\n",
              " '1010,thoothpaste,45,95',\n",
              " '1011,peabel,300,7',\n",
              " '1012,chips,10,40',\n",
              " '1013,buistuc,45,95',\n",
              " '1014,limb,300,7',\n",
              " '1015,shake,10,40',\n",
              " '1016,peas,45,95',\n",
              " '1017,dgf,300,7',\n",
              " '1018,perfume,200,40',\n",
              " '1019,bags,1000,15',\n",
              " '1020,cupcake,30,17',\n",
              " '1021,cream,100,40',\n",
              " '1022,Drinks,45,95',\n",
              " '1023,cheese,30,7',\n",
              " '1024,berry,10,40',\n",
              " '1025,apples,45,95',\n",
              " '1026,banana,30,7',\n",
              " '1027,salt,10,40']"
            ]
          },
          "metadata": {},
          "execution_count": 9
        }
      ]
    },
    {
      "cell_type": "markdown",
      "metadata": {
        "id": "iC04xLj09g7h"
      },
      "source": [
        "**We have used split function to properly seperated each items for better understanding**"
      ]
    },
    {
      "cell_type": "code",
      "metadata": {
        "colab": {
          "base_uri": "https://localhost:8080/"
        },
        "id": "ENIh8b0Y7ix-",
        "outputId": "cc7b33a7-d08e-4550-e2c1-6de3b77038fd"
      },
      "source": [
        "\n",
        "products = txt.split(\"\\n\")\n",
        "\n",
        "ui_prod  = str(input(\"Enter the product_Id: \"))\n",
        "ui_quant = input(\"Enter the quantity: \")\n",
        "\n",
        "for product in products:\n",
        "    prod = product.split(\",\")\n",
        "    \n",
        "    \n",
        "    if(prod[0] == ui_prod):\n",
        "        print(\"***********************\")\n",
        "        print(\"Product ID: \", prod[0])\n",
        "        print(\"Name: \", prod[1])\n",
        "        print(\"Price: \",prod[2])\n",
        "        print(\"Quant: \",ui_quant)\n",
        "        print(\"------------------------\")\n",
        "        print(\"Billing Amout: \", ui_quant * int(prod[2]))\n",
        "        print(\"***********************\")"
      ],
      "execution_count": 10,
      "outputs": [
        {
          "output_type": "stream",
          "name": "stdout",
          "text": [
            "Enter the product_Id: 1020\n",
            "Enter the quantity: 2\n",
            "***********************\n",
            "Product ID:  1020\n",
            "Name:  cupcake\n",
            "Price:  30\n",
            "Quant:  2\n",
            "------------------------\n",
            "Billing Amout:  222222222222222222222222222222\n",
            "***********************\n"
          ]
        }
      ]
    },
    {
      "cell_type": "code",
      "metadata": {
        "id": "z_EegCMs-0iO"
      },
      "source": [
        "dct = { 1 : {'name' : 'jelly', \"price\": 10 , \"qn\": 32, \"product id\":1030 },\n",
        "       2 : {'name' : 'bread', \"price\": 40 , \"qn\": 32, \"product id\": 1031 },\n",
        "       3 : {'name' : 'mint', \"price\": 10 , \"qn\": 32, \"product id\": 1032 }}"
      ],
      "execution_count": 11,
      "outputs": []
    },
    {
      "cell_type": "code",
      "metadata": {
        "colab": {
          "base_uri": "https://localhost:8080/"
        },
        "id": "Wt4c1aIK_sux",
        "outputId": "03aaa3c9-6978-4a83-b3ed-286a73753267"
      },
      "source": [
        "dct"
      ],
      "execution_count": 12,
      "outputs": [
        {
          "output_type": "execute_result",
          "data": {
            "text/plain": [
              "{1: {'name': 'jelly', 'price': 10, 'product id': 1030, 'qn': 32},\n",
              " 2: {'name': 'bread', 'price': 40, 'product id': 1031, 'qn': 32},\n",
              " 3: {'name': 'mint', 'price': 10, 'product id': 1032, 'qn': 32}}"
            ]
          },
          "metadata": {},
          "execution_count": 12
        }
      ]
    },
    {
      "cell_type": "markdown",
      "metadata": {
        "id": "3tFHDlVoAI3o"
      },
      "source": [
        "dct used to store data as in dictonary"
      ]
    }
  ]
}